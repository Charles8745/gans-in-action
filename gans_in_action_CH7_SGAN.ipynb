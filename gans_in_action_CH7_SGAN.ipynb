{
  "nbformat": 4,
  "nbformat_minor": 0,
  "metadata": {
    "colab": {
      "provenance": [],
      "gpuType": "T4",
      "authorship_tag": "ABX9TyMi0SNmpKzsoxNkbHFhvhip",
      "include_colab_link": true
    },
    "kernelspec": {
      "name": "python3",
      "display_name": "Python 3"
    },
    "language_info": {
      "name": "python"
    },
    "accelerator": "GPU"
  },
  "cells": [
    {
      "cell_type": "markdown",
      "metadata": {
        "id": "view-in-github",
        "colab_type": "text"
      },
      "source": [
        "<a href=\"https://colab.research.google.com/github/Charles8745/gans-in-action/blob/master/gans_in_action_CH7_SGAN.ipynb\" target=\"_parent\"><img src=\"https://colab.research.google.com/assets/colab-badge.svg\" alt=\"Open In Colab\"/></a>"
      ]
    },
    {
      "cell_type": "code",
      "execution_count": 1,
      "metadata": {
        "colab": {
          "base_uri": "https://localhost:8080/"
        },
        "id": "Zzar8c_hbR_j",
        "outputId": "7f2b23c6-e352-4556-a481-56a37975f582"
      },
      "outputs": [
        {
          "output_type": "stream",
          "name": "stdout",
          "text": [
            "Pythyon: 3.11.13 (main, Jun  4 2025, 08:57:29) [GCC 11.4.0]\n",
            "Keras: 3.8.0\n"
          ]
        }
      ],
      "source": [
        "%matplotlib inline\n",
        "\n",
        "import sys\n",
        "import matplotlib.pyplot as plt\n",
        "import numpy as np\n",
        "import keras\n",
        "\n",
        "from keras import backend as K\n",
        "from keras.datasets import mnist\n",
        "from keras.layers import Dense, Flatten, Reshape, LeakyReLU, Activation, BatchNormalization, Dropout, Conv2D, Conv2DTranspose, Concatenate, Input, Lambda\n",
        "from keras.models import Sequential\n",
        "from keras.optimizers import Adam\n",
        "from keras.utils import to_categorical\n",
        "\n",
        "\n",
        "print(f\"Pythyon: {sys.version}\")\n",
        "print(f\"Keras: {keras.__version__}\")"
      ]
    },
    {
      "cell_type": "code",
      "source": [
        "# Gloanal Parameters\n",
        "img_rows= 28\n",
        "img_cols = 28\n",
        "channel = 1\n",
        "\n",
        "img_shape = (img_rows, img_cols, channel)\n",
        "\n",
        "z_dim = 100\n",
        "\n",
        "num_classes = 10"
      ],
      "metadata": {
        "id": "zd_1qMYzcTiK"
      },
      "execution_count": 2,
      "outputs": []
    },
    {
      "cell_type": "code",
      "source": [
        "class Dataset:\n",
        "    def __init__(self, num_labeled):\n",
        "\n",
        "        # Number labeled examples to use for training\n",
        "        self.num_labeled = num_labeled\n",
        "\n",
        "        # Load the MNIST dataset\n",
        "        (self.x_train, self.y_train), (self.x_test,\n",
        "                                       self.y_test) = mnist.load_data()\n",
        "\n",
        "        def preprocess_imgs(x):\n",
        "            # Rescale [0, 255] grayscale pixel values to [-1, 1]\n",
        "            x = (x.astype(np.float32) - 127.5) / 127.5\n",
        "            # Expand image dimensions to width x height x channels\n",
        "            x = np.expand_dims(x, axis=3)\n",
        "            return x\n",
        "\n",
        "        def preprocess_labels(y):\n",
        "            return y.reshape(-1, 1)\n",
        "\n",
        "        # Training data\n",
        "        self.x_train = preprocess_imgs(self.x_train)\n",
        "        self.y_train = preprocess_labels(self.y_train)\n",
        "\n",
        "        # Testing data\n",
        "        self.x_test = preprocess_imgs(self.x_test)\n",
        "        self.y_test = preprocess_labels(self.y_test)\n",
        "\n",
        "    def batch_labeled(self, batch_size):\n",
        "        # Get a random batch of labeled images and their labels\n",
        "        idx = np.random.randint(0, self.num_labeled, batch_size)\n",
        "        imgs = self.x_train[idx]\n",
        "        labels = self.y_train[idx]\n",
        "        return imgs, labels\n",
        "\n",
        "    def batch_unlabeled(self, batch_size):\n",
        "        # Get a random batch of unlabeled images\n",
        "        idx = np.random.randint(self.num_labeled, self.x_train.shape[0],\n",
        "                                batch_size)\n",
        "        imgs = self.x_train[idx]\n",
        "        return imgs\n",
        "\n",
        "    def training_set(self):\n",
        "        x_train = self.x_train[range(self.num_labeled)]\n",
        "        y_train = self.y_train[range(self.num_labeled)]\n",
        "        return x_train, y_train\n",
        "\n",
        "    def test_set(self):\n",
        "        return self.x_test, self.y_test\n",
        "\n",
        "# 設定只取100份含標記的樣本\n",
        "num_labeled = 100\n",
        "\n",
        "dataset = Dataset(num_labeled)"
      ],
      "metadata": {
        "colab": {
          "base_uri": "https://localhost:8080/"
        },
        "id": "8IvXUypxdEyD",
        "outputId": "4a3a7bd6-ee34-4f4c-f0aa-4b0f980449cf"
      },
      "execution_count": 3,
      "outputs": [
        {
          "output_type": "stream",
          "name": "stdout",
          "text": [
            "Downloading data from https://storage.googleapis.com/tensorflow/tf-keras-datasets/mnist.npz\n",
            "\u001b[1m11490434/11490434\u001b[0m \u001b[32m━━━━━━━━━━━━━━━━━━━━\u001b[0m\u001b[37m\u001b[0m \u001b[1m0s\u001b[0m 0us/step\n"
          ]
        }
      ]
    },
    {
      "cell_type": "code",
      "source": [
        "# Build generator (from CH4)\n",
        "def build_generator(img_size, z_dim):\n",
        "  model = Sequential()\n",
        "\n",
        "  model.add(keras.Input(shape=(z_dim,)))\n",
        "\n",
        "  model.add(Dense(7*7*256))\n",
        "  model.add(Reshape((7, 7, 256)))\n",
        "\n",
        "  model.add(Conv2DTranspose(128, kernel_size=3, strides=2, padding='same'))\n",
        "\n",
        "  model.add(BatchNormalization())\n",
        "\n",
        "  model.add(LeakyReLU(negative_slope=0.01))\n",
        "\n",
        "  model.add(Conv2DTranspose(64, kernel_size=3, strides=1, padding='same'))\n",
        "\n",
        "  model.add(BatchNormalization())\n",
        "\n",
        "  model.add(LeakyReLU(negative_slope=0.01))\n",
        "\n",
        "  model.add(Conv2DTranspose(1, kernel_size=3, strides=2, padding='same'))\n",
        "\n",
        "  model.add(Activation('tanh'))\n",
        "\n",
        "  return model"
      ],
      "metadata": {
        "id": "f-UXz00-doa_"
      },
      "execution_count": 4,
      "outputs": []
    },
    {
      "cell_type": "code",
      "source": [
        "# Build discriminator (from CH4 modified)\n",
        "def build_discriminator(img_size):\n",
        "  model = Sequential()\n",
        "  model.add(keras.Input(shape=img_size))\n",
        "\n",
        "  model.add(Conv2D(16,kernel_size=4, strides=2, padding='same')) # 14,14,16\n",
        "\n",
        "  model.add(LeakyReLU(negative_slope=0.01))\n",
        "\n",
        "  model.add(Conv2D(32,kernel_size=4, strides=2, padding='same')) # 7,7,32\n",
        "\n",
        "  model.add(LeakyReLU(negative_slope=0.01))\n",
        "\n",
        "  model.add(BatchNormalization()) # modify 1\n",
        "\n",
        "  model.add(Dropout(0.5)) # modify 2\n",
        "\n",
        "  model.add(Flatten())\n",
        "\n",
        "  model.add(Dense(512))\n",
        "\n",
        "  model.add(LeakyReLU(negative_slope=0.01))\n",
        "\n",
        "  model.add(Dense(num_classes)) # modify 3 為了輸出和類別相同大小\n",
        "\n",
        "  return model"
      ],
      "metadata": {
        "id": "kueGcUuMdsnA"
      },
      "execution_count": 5,
      "outputs": []
    },
    {
      "cell_type": "code",
      "source": [
        "# 分別建立監督式和非監督式的Discriminator\n",
        "def build_discriminator_supervised(discriminator_net):\n",
        "  model = Sequential()\n",
        "  model.add(discriminator_net)\n",
        "  model.add(Activation('softmax')) # Softmax activation, giving predicted probability distribution over the real classes\n",
        "  return model\n",
        "\n",
        "def build_discriminator_unsupervised(discriminator_net):\n",
        "  model = Sequential()\n",
        "  model.add(discriminator_net)\n",
        "  model.add(Dense(1, activation='sigmoid'))\n",
        "  return model"
      ],
      "metadata": {
        "id": "D5r_Ww3heppk"
      },
      "execution_count": 6,
      "outputs": []
    },
    {
      "cell_type": "code",
      "source": [
        "# Build Gan\n",
        "def build_gan(generator, discriminator):\n",
        "  model = Sequential()\n",
        "\n",
        "  model.add(generator)\n",
        "  model.add(discriminator)\n",
        "\n",
        "  return model"
      ],
      "metadata": {
        "id": "xwpRdnZfgDPP"
      },
      "execution_count": 7,
      "outputs": []
    },
    {
      "cell_type": "code",
      "source": [
        "# 鑑別器的核心網路\n",
        "discriminator_net = build_discriminator(img_shape)\n",
        "\n",
        "# 監督式鑑別器\n",
        "discriminator_supervised = build_discriminator_supervised(discriminator_net)\n",
        "discriminator_supervised.compile(\n",
        "    loss = 'categorical_crossentropy',\n",
        "    metrics = ['accuracy'],\n",
        "    optimizer = Adam()\n",
        "    )\n",
        "\n",
        "# 非監督式鑑別器\n",
        "discriminator_unsupervised = build_discriminator_unsupervised(discriminator_net)\n",
        "discriminator_unsupervised.compile(\n",
        "    loss = 'binary_crossentropy',\n",
        "    optimizer = Adam()\n",
        "    )\n",
        "\n",
        "generator = build_generator(img_shape, z_dim)\n",
        "gan = build_gan(generator, discriminator_unsupervised)\n",
        "gan.compile(\n",
        "    loss = 'binary_crossentropy',\n",
        "    optimizer = Adam()\n",
        "    )"
      ],
      "metadata": {
        "id": "GWq64n98gQly"
      },
      "execution_count": 8,
      "outputs": []
    },
    {
      "cell_type": "code",
      "source": [
        "supervised_losses = []\n",
        "iteration_checkpoints = []\n",
        "\n",
        "def train(iters, batch_size, sample_interval):\n",
        "  real = np.ones((batch_size, 1)) # label\n",
        "  fake = np.zeros((batch_size, 1))\n",
        "\n",
        "  for iteration in range(iters):\n",
        "    \"\"\"\n",
        "    Step1: 訓練監督式D\n",
        "    \"\"\"\n",
        "    imgs, labels = dataset.batch_labeled(batch_size)\n",
        "    labels = to_categorical(labels, num_classes=num_classes) # one-hot encode\n",
        "\n",
        "    (d_loss_supervised, accuracy) = discriminator_supervised.train_on_batch(imgs, labels)\n",
        "\n",
        "    \"\"\"\n",
        "    Step1: 訓練非監督式D\n",
        "    \"\"\"\n",
        "    imgs_unlabeles = dataset.batch_unlabeled(batch_size)\n",
        "    z = np.random.normal(0, 1, (batch_size, z_dim))\n",
        "    gen_imgs = generator.predict(z,verbose=0)\n",
        "\n",
        "    d_loss_real = discriminator_unsupervised.train_on_batch(imgs_unlabeles, real)\n",
        "    d_loss_fake = discriminator_unsupervised.train_on_batch(gen_imgs, fake)\n",
        "    d_loss_unsupervised = 0.5 * np.add(d_loss_real, d_loss_fake)\n",
        "\n",
        "    \"\"\"\n",
        "    Step1: 訓練G\n",
        "    \"\"\"\n",
        "    discriminator_unsupervised.trainable = False # 要記得鎖discriminator\n",
        "    z = np.random.normal(0,1,(batch_size, z_dim))\n",
        "    g_loss = gan.train_on_batch(z, real) # 訓練Generator時要讓圖的label接近1\n",
        "\n",
        "\n",
        "    # sample fake img\n",
        "    if (iteration + 1) % sample_interval == 0:\n",
        "\n",
        "        # Save Discriminator supervised classification loss to be plotted after training\n",
        "        supervised_losses.append(d_loss_supervised)\n",
        "        iteration_checkpoints.append(iteration + 1)\n",
        "\n",
        "        # Output training progress\n",
        "        print(\n",
        "            \"%d [D loss supervised: %.4f, acc.: %.2f%%] [D loss unsupervised: %.4f] [G loss: %f]\"\n",
        "            % (iteration + 1, d_loss_supervised, 100 * accuracy,\n",
        "                d_loss_unsupervised, g_loss))"
      ],
      "metadata": {
        "id": "3D4n4duIh4Pv"
      },
      "execution_count": 9,
      "outputs": []
    },
    {
      "cell_type": "code",
      "source": [
        "# Set hyperparameters\n",
        "iterations = 8000\n",
        "batch_size = 32\n",
        "sample_interval = 800\n",
        "\n",
        "# Train the SGAN for the specified number of iterations\n",
        "train(iterations, batch_size, sample_interval)"
      ],
      "metadata": {
        "colab": {
          "base_uri": "https://localhost:8080/"
        },
        "id": "BPMtEKkpmSTR",
        "outputId": "aa8d6b00-9a92-472f-88cd-8cb0df8bf1fd"
      },
      "execution_count": 10,
      "outputs": [
        {
          "output_type": "stream",
          "name": "stdout",
          "text": [
            "800 [D loss supervised: 0.0604, acc.: 98.64%] [D loss unsupervised: 0.0117] [G loss: 0.313475]\n",
            "1600 [D loss supervised: 0.0302, acc.: 99.32%] [D loss unsupervised: 0.0059] [G loss: 0.156942]\n",
            "2400 [D loss supervised: 0.0253, acc.: 99.42%] [D loss unsupervised: 0.0040] [G loss: 0.107032]\n",
            "3200 [D loss supervised: 0.0192, acc.: 99.56%] [D loss unsupervised: 0.0030] [G loss: 0.080275]\n",
            "4000 [D loss supervised: 0.0199, acc.: 99.58%] [D loss unsupervised: 0.0032] [G loss: 0.076496]\n",
            "4800 [D loss supervised: 0.0174, acc.: 99.64%] [D loss unsupervised: 0.0030] [G loss: 0.072128]\n",
            "5600 [D loss supervised: 0.0153, acc.: 99.69%] [D loss unsupervised: 0.0025] [G loss: 0.062744]\n",
            "6400 [D loss supervised: 0.0144, acc.: 99.71%] [D loss unsupervised: 0.0034] [G loss: 0.073669]\n",
            "7200 [D loss supervised: 0.0132, acc.: 99.73%] [D loss unsupervised: 0.0034] [G loss: 0.072003]\n",
            "8000 [D loss supervised: 0.0125, acc.: 99.75%] [D loss unsupervised: 0.0035] [G loss: 0.070118]\n"
          ]
        }
      ]
    },
    {
      "cell_type": "code",
      "source": [
        "losses = np.array(supervised_losses)\n",
        "\n",
        "# Plot Discriminator supervised loss\n",
        "plt.figure(figsize=(15, 5))\n",
        "plt.plot(iteration_checkpoints, losses, label=\"Discriminator loss\")\n",
        "\n",
        "plt.xticks(iteration_checkpoints, rotation=90)\n",
        "\n",
        "plt.title(\"Discriminator – Supervised Loss\")\n",
        "plt.xlabel(\"Iteration\")\n",
        "plt.ylabel(\"Loss\")\n",
        "plt.legend()"
      ],
      "metadata": {
        "colab": {
          "base_uri": "https://localhost:8080/",
          "height": 525
        },
        "id": "7Lh38DNcnt9S",
        "outputId": "ab033a85-02c9-49cb-a5bd-2c297f8d39cd"
      },
      "execution_count": 11,
      "outputs": [
        {
          "output_type": "execute_result",
          "data": {
            "text/plain": [
              "<matplotlib.legend.Legend at 0x7efafff06590>"
            ]
          },
          "metadata": {},
          "execution_count": 11
        },
        {
          "output_type": "display_data",
          "data": {
            "text/plain": [
              "<Figure size 1500x500 with 1 Axes>"
            ],
            "image/png": "[encoded data removed]"
          },
          "metadata": {}
        }
      ]
    },
    {
      "cell_type": "code",
      "source": [
        "x, y = dataset.training_set()\n",
        "y = to_categorical(y, num_classes=num_classes)\n",
        "\n",
        "# Compute classification accuracy on the training set\n",
        "_, accuracy = discriminator_supervised.evaluate(x, y)\n",
        "print(\"Training Accuracy: %.2f%%\" % (100 * accuracy))"
      ],
      "metadata": {
        "colab": {
          "base_uri": "https://localhost:8080/"
        },
        "id": "T0dW7tK0nwl7",
        "outputId": "b183bdc7-031c-49cf-fd2b-0f35035f4262"
      },
      "execution_count": 12,
      "outputs": [
        {
          "output_type": "stream",
          "name": "stdout",
          "text": [
            "\u001b[1m4/4\u001b[0m \u001b[32m━━━━━━━━━━━━━━━━━━━━\u001b[0m\u001b[37m\u001b[0m \u001b[1m1s\u001b[0m 181ms/step - accuracy: 1.0000 - loss: 0.0000e+00\n",
            "Training Accuracy: 100.00%\n"
          ]
        }
      ]
    },
    {
      "cell_type": "code",
      "source": [
        "x, y = dataset.test_set()\n",
        "y = to_categorical(y, num_classes=num_classes)\n",
        "\n",
        "# Compute classification accuracy on the test set\n",
        "_, accuracy = discriminator_supervised.evaluate(x, y)\n",
        "print(\"Test Accuracy: %.2f%%\" % (100 * accuracy))"
      ],
      "metadata": {
        "colab": {
          "base_uri": "https://localhost:8080/"
        },
        "id": "9PQLLCMGnzhF",
        "outputId": "44774c0b-bbc3-42fd-a17b-3d98eb2a2418"
      },
      "execution_count": 13,
      "outputs": [
        {
          "output_type": "stream",
          "name": "stdout",
          "text": [
            "\u001b[1m313/313\u001b[0m \u001b[32m━━━━━━━━━━━━━━━━━━━━\u001b[0m\u001b[37m\u001b[0m \u001b[1m1s\u001b[0m 4ms/step - accuracy: 0.6653 - loss: 10.0911\n",
            "Test Accuracy: 70.36%\n"
          ]
        }
      ]
    },
    {
      "cell_type": "markdown",
      "source": [],
      "metadata": {
        "id": "VaIeq9ETk3LO"
      }
    }
  ]
}